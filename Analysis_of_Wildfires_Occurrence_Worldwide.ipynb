{
  "nbformat": 4,
  "nbformat_minor": 0,
  "metadata": {
    "colab": {
      "name": "Analysis of Wildfires Occurrence Worldwide.ipynb",
      "provenance": [],
      "collapsed_sections": [],
      "include_colab_link": true
    },
    "kernelspec": {
      "name": "python3",
      "display_name": "Python 3"
    },
    "language_info": {
      "name": "python"
    }
  },
  "cells": [
    {
      "cell_type": "markdown",
      "metadata": {
        "id": "view-in-github",
        "colab_type": "text"
      },
      "source": [
        "<a href=\"https://colab.research.google.com/github/JERWIN0/BAT404_FIREMAN/blob/main/Analysis_of_Wildfires_Occurrence_Worldwide.ipynb\" target=\"_parent\"><img src=\"https://colab.research.google.com/assets/colab-badge.svg\" alt=\"Open In Colab\"/></a>"
      ]
    },
    {
      "cell_type": "markdown",
      "source": [
        ""
      ],
      "metadata": {
        "id": "2wI1qpZqGYDT"
      }
    },
    {
      "cell_type": "code",
      "execution_count": 199,
      "metadata": {
        "id": "sA06TuKpCX_2"
      },
      "outputs": [],
      "source": [
        "import numpy as np\n",
        "import pandas as pd\n",
        "from google.colab import files\n",
        "import io\n",
        "from datetime import timedelta\n",
        "import matplotlib.pyplot as plt\n",
        "from google.colab import data_table\n",
        "from datetime import datetime , timedelta\n",
        "from matplotlib import pyplot as plt\n",
        "from matplotlib import dates as mpl_dates"
      ]
    },
    {
      "cell_type": "code",
      "source": [
        "url = 'https://raw.githubusercontent.com/JERWIN0/BAT404_FIREMAN/main/California_Fire_Incidents.csv'"
      ],
      "metadata": {
        "id": "p4_8M6qrDOZu"
      },
      "execution_count": 200,
      "outputs": []
    },
    {
      "cell_type": "code",
      "source": [
        "ds = pd.read_csv(url)"
      ],
      "metadata": {
        "id": "XWChsxsBD3fd"
      },
      "execution_count": 201,
      "outputs": []
    },
    {
      "cell_type": "code",
      "source": [
        "ds.head()"
      ],
      "metadata": {
        "colab": {
          "base_uri": "https://localhost:8080/",
          "height": 577
        },
        "id": "NHKym9iJENeF",
        "outputId": "6a05b255-a868-4c83-fdf0-62259661cc49"
      },
      "execution_count": 202,
      "outputs": [
        {
          "output_type": "execute_result",
          "data": {
            "text/plain": [
              "   AcresBurned  Active                                          AdminUnit  \\\n",
              "0     257314.0   False  Stanislaus National Forest/Yosemite National Park   \n",
              "1      30274.0   False  USFS Angeles National Forest/Los Angeles Count...   \n",
              "2      27531.0   False  CAL FIRE Riverside Unit / San Bernardino Natio...   \n",
              "3      27440.0   False                              Tahoe National Forest   \n",
              "4      24251.0   False                       Ventura County Fire/CAL FIRE   \n",
              "\n",
              "   AirTankers  ArchiveYear  CalFireIncident  \\\n",
              "0         NaN         2013             True   \n",
              "1         NaN         2013             True   \n",
              "2         NaN         2013             True   \n",
              "3         NaN         2013            False   \n",
              "4         NaN         2013             True   \n",
              "\n",
              "                            CanonicalUrl  \\\n",
              "0         /incidents/2013/8/17/rim/fire/   \n",
              "1  /incidents/2013/5/30/powerhouse/fire/   \n",
              "2    /incidents/2013/7/15/mountain/fire/   \n",
              "3    /incidents/2013/8/10/american/fire/   \n",
              "4      /incidents/2013/5/2/springs/fire/   \n",
              "\n",
              "                                  ConditionStatement ControlStatement  \\\n",
              "0                                                NaN              NaN   \n",
              "1                                                NaN              NaN   \n",
              "2                                                NaN              NaN   \n",
              "3                                                NaN              NaN   \n",
              "4  Acreage has been reduced based upon more accur...              NaN   \n",
              "\n",
              "      Counties  ...                                     SearchKeywords  \\\n",
              "0     Tuolumne  ...  Rim Fire, Stanislaus National Forest, Yosemite...   \n",
              "1  Los Angeles  ...  Powerhouse Fire, May 2013, June 2013, Angeles ...   \n",
              "2    Riverside  ...  Mountain Fire, July 2013, Highway 243, Highway...   \n",
              "3       Placer  ...  American Fire, August 2013, Deadwood Ridge, Fo...   \n",
              "4      Ventura  ...  Springs Fire, May 2013, Highway 101, Camarillo...   \n",
              "\n",
              "      Started     Status  StructuresDamaged StructuresDestroyed  \\\n",
              "0  17/08/2013  Finalized                NaN                 NaN   \n",
              "1  30/05/2013  Finalized                NaN                 NaN   \n",
              "2  15/07/2013  Finalized                NaN                 NaN   \n",
              "3  10/08/2013  Finalized                NaN                 NaN   \n",
              "4  02/05/2013  Finalized                6.0                10.0   \n",
              "\n",
              "   StructuresEvacuated  StructuresThreatened  \\\n",
              "0                  NaN                   NaN   \n",
              "1                  NaN                   NaN   \n",
              "2                  NaN                   NaN   \n",
              "3                  NaN                   NaN   \n",
              "4                  NaN                   NaN   \n",
              "\n",
              "                               UniqueId               Updated  WaterTenders  \n",
              "0  5fb18d4d/213f/4d83/a179/daaf11939e78  2013/09/06T18:30:00Z           NaN  \n",
              "1  bf37805e/1cc2/4208/9972/753e47874c87  2013/06/08T18:30:00Z           NaN  \n",
              "2  a3149fec/4d48/427c/8b2c/59e8b79d59db  2013/07/30T18:00:00Z           NaN  \n",
              "3  8213f5c7/34fa/403b/a4bc/da2ace6e6625  2013/08/30T08:00:00Z           NaN  \n",
              "4  46731fb8/3350/4920/bdf7/910ac0eb715c  2013/05/11T06:30:00Z          11.0  \n",
              "\n",
              "[5 rows x 40 columns]"
            ],
            "text/html": [
              "\n",
              "  <div id=\"df-9acf9f2b-2d04-415d-aef1-67a285baff6c\">\n",
              "    <div class=\"colab-df-container\">\n",
              "      <div>\n",
              "<style scoped>\n",
              "    .dataframe tbody tr th:only-of-type {\n",
              "        vertical-align: middle;\n",
              "    }\n",
              "\n",
              "    .dataframe tbody tr th {\n",
              "        vertical-align: top;\n",
              "    }\n",
              "\n",
              "    .dataframe thead th {\n",
              "        text-align: right;\n",
              "    }\n",
              "</style>\n",
              "<table border=\"1\" class=\"dataframe\">\n",
              "  <thead>\n",
              "    <tr style=\"text-align: right;\">\n",
              "      <th></th>\n",
              "      <th>AcresBurned</th>\n",
              "      <th>Active</th>\n",
              "      <th>AdminUnit</th>\n",
              "      <th>AirTankers</th>\n",
              "      <th>ArchiveYear</th>\n",
              "      <th>CalFireIncident</th>\n",
              "      <th>CanonicalUrl</th>\n",
              "      <th>ConditionStatement</th>\n",
              "      <th>ControlStatement</th>\n",
              "      <th>Counties</th>\n",
              "      <th>...</th>\n",
              "      <th>SearchKeywords</th>\n",
              "      <th>Started</th>\n",
              "      <th>Status</th>\n",
              "      <th>StructuresDamaged</th>\n",
              "      <th>StructuresDestroyed</th>\n",
              "      <th>StructuresEvacuated</th>\n",
              "      <th>StructuresThreatened</th>\n",
              "      <th>UniqueId</th>\n",
              "      <th>Updated</th>\n",
              "      <th>WaterTenders</th>\n",
              "    </tr>\n",
              "  </thead>\n",
              "  <tbody>\n",
              "    <tr>\n",
              "      <th>0</th>\n",
              "      <td>257314.0</td>\n",
              "      <td>False</td>\n",
              "      <td>Stanislaus National Forest/Yosemite National Park</td>\n",
              "      <td>NaN</td>\n",
              "      <td>2013</td>\n",
              "      <td>True</td>\n",
              "      <td>/incidents/2013/8/17/rim/fire/</td>\n",
              "      <td>NaN</td>\n",
              "      <td>NaN</td>\n",
              "      <td>Tuolumne</td>\n",
              "      <td>...</td>\n",
              "      <td>Rim Fire, Stanislaus National Forest, Yosemite...</td>\n",
              "      <td>17/08/2013</td>\n",
              "      <td>Finalized</td>\n",
              "      <td>NaN</td>\n",
              "      <td>NaN</td>\n",
              "      <td>NaN</td>\n",
              "      <td>NaN</td>\n",
              "      <td>5fb18d4d/213f/4d83/a179/daaf11939e78</td>\n",
              "      <td>2013/09/06T18:30:00Z</td>\n",
              "      <td>NaN</td>\n",
              "    </tr>\n",
              "    <tr>\n",
              "      <th>1</th>\n",
              "      <td>30274.0</td>\n",
              "      <td>False</td>\n",
              "      <td>USFS Angeles National Forest/Los Angeles Count...</td>\n",
              "      <td>NaN</td>\n",
              "      <td>2013</td>\n",
              "      <td>True</td>\n",
              "      <td>/incidents/2013/5/30/powerhouse/fire/</td>\n",
              "      <td>NaN</td>\n",
              "      <td>NaN</td>\n",
              "      <td>Los Angeles</td>\n",
              "      <td>...</td>\n",
              "      <td>Powerhouse Fire, May 2013, June 2013, Angeles ...</td>\n",
              "      <td>30/05/2013</td>\n",
              "      <td>Finalized</td>\n",
              "      <td>NaN</td>\n",
              "      <td>NaN</td>\n",
              "      <td>NaN</td>\n",
              "      <td>NaN</td>\n",
              "      <td>bf37805e/1cc2/4208/9972/753e47874c87</td>\n",
              "      <td>2013/06/08T18:30:00Z</td>\n",
              "      <td>NaN</td>\n",
              "    </tr>\n",
              "    <tr>\n",
              "      <th>2</th>\n",
              "      <td>27531.0</td>\n",
              "      <td>False</td>\n",
              "      <td>CAL FIRE Riverside Unit / San Bernardino Natio...</td>\n",
              "      <td>NaN</td>\n",
              "      <td>2013</td>\n",
              "      <td>True</td>\n",
              "      <td>/incidents/2013/7/15/mountain/fire/</td>\n",
              "      <td>NaN</td>\n",
              "      <td>NaN</td>\n",
              "      <td>Riverside</td>\n",
              "      <td>...</td>\n",
              "      <td>Mountain Fire, July 2013, Highway 243, Highway...</td>\n",
              "      <td>15/07/2013</td>\n",
              "      <td>Finalized</td>\n",
              "      <td>NaN</td>\n",
              "      <td>NaN</td>\n",
              "      <td>NaN</td>\n",
              "      <td>NaN</td>\n",
              "      <td>a3149fec/4d48/427c/8b2c/59e8b79d59db</td>\n",
              "      <td>2013/07/30T18:00:00Z</td>\n",
              "      <td>NaN</td>\n",
              "    </tr>\n",
              "    <tr>\n",
              "      <th>3</th>\n",
              "      <td>27440.0</td>\n",
              "      <td>False</td>\n",
              "      <td>Tahoe National Forest</td>\n",
              "      <td>NaN</td>\n",
              "      <td>2013</td>\n",
              "      <td>False</td>\n",
              "      <td>/incidents/2013/8/10/american/fire/</td>\n",
              "      <td>NaN</td>\n",
              "      <td>NaN</td>\n",
              "      <td>Placer</td>\n",
              "      <td>...</td>\n",
              "      <td>American Fire, August 2013, Deadwood Ridge, Fo...</td>\n",
              "      <td>10/08/2013</td>\n",
              "      <td>Finalized</td>\n",
              "      <td>NaN</td>\n",
              "      <td>NaN</td>\n",
              "      <td>NaN</td>\n",
              "      <td>NaN</td>\n",
              "      <td>8213f5c7/34fa/403b/a4bc/da2ace6e6625</td>\n",
              "      <td>2013/08/30T08:00:00Z</td>\n",
              "      <td>NaN</td>\n",
              "    </tr>\n",
              "    <tr>\n",
              "      <th>4</th>\n",
              "      <td>24251.0</td>\n",
              "      <td>False</td>\n",
              "      <td>Ventura County Fire/CAL FIRE</td>\n",
              "      <td>NaN</td>\n",
              "      <td>2013</td>\n",
              "      <td>True</td>\n",
              "      <td>/incidents/2013/5/2/springs/fire/</td>\n",
              "      <td>Acreage has been reduced based upon more accur...</td>\n",
              "      <td>NaN</td>\n",
              "      <td>Ventura</td>\n",
              "      <td>...</td>\n",
              "      <td>Springs Fire, May 2013, Highway 101, Camarillo...</td>\n",
              "      <td>02/05/2013</td>\n",
              "      <td>Finalized</td>\n",
              "      <td>6.0</td>\n",
              "      <td>10.0</td>\n",
              "      <td>NaN</td>\n",
              "      <td>NaN</td>\n",
              "      <td>46731fb8/3350/4920/bdf7/910ac0eb715c</td>\n",
              "      <td>2013/05/11T06:30:00Z</td>\n",
              "      <td>11.0</td>\n",
              "    </tr>\n",
              "  </tbody>\n",
              "</table>\n",
              "<p>5 rows × 40 columns</p>\n",
              "</div>\n",
              "      <button class=\"colab-df-convert\" onclick=\"convertToInteractive('df-9acf9f2b-2d04-415d-aef1-67a285baff6c')\"\n",
              "              title=\"Convert this dataframe to an interactive table.\"\n",
              "              style=\"display:none;\">\n",
              "        \n",
              "  <svg xmlns=\"http://www.w3.org/2000/svg\" height=\"24px\"viewBox=\"0 0 24 24\"\n",
              "       width=\"24px\">\n",
              "    <path d=\"M0 0h24v24H0V0z\" fill=\"none\"/>\n",
              "    <path d=\"M18.56 5.44l.94 2.06.94-2.06 2.06-.94-2.06-.94-.94-2.06-.94 2.06-2.06.94zm-11 1L8.5 8.5l.94-2.06 2.06-.94-2.06-.94L8.5 2.5l-.94 2.06-2.06.94zm10 10l.94 2.06.94-2.06 2.06-.94-2.06-.94-.94-2.06-.94 2.06-2.06.94z\"/><path d=\"M17.41 7.96l-1.37-1.37c-.4-.4-.92-.59-1.43-.59-.52 0-1.04.2-1.43.59L10.3 9.45l-7.72 7.72c-.78.78-.78 2.05 0 2.83L4 21.41c.39.39.9.59 1.41.59.51 0 1.02-.2 1.41-.59l7.78-7.78 2.81-2.81c.8-.78.8-2.07 0-2.86zM5.41 20L4 18.59l7.72-7.72 1.47 1.35L5.41 20z\"/>\n",
              "  </svg>\n",
              "      </button>\n",
              "      \n",
              "  <style>\n",
              "    .colab-df-container {\n",
              "      display:flex;\n",
              "      flex-wrap:wrap;\n",
              "      gap: 12px;\n",
              "    }\n",
              "\n",
              "    .colab-df-convert {\n",
              "      background-color: #E8F0FE;\n",
              "      border: none;\n",
              "      border-radius: 50%;\n",
              "      cursor: pointer;\n",
              "      display: none;\n",
              "      fill: #1967D2;\n",
              "      height: 32px;\n",
              "      padding: 0 0 0 0;\n",
              "      width: 32px;\n",
              "    }\n",
              "\n",
              "    .colab-df-convert:hover {\n",
              "      background-color: #E2EBFA;\n",
              "      box-shadow: 0px 1px 2px rgba(60, 64, 67, 0.3), 0px 1px 3px 1px rgba(60, 64, 67, 0.15);\n",
              "      fill: #174EA6;\n",
              "    }\n",
              "\n",
              "    [theme=dark] .colab-df-convert {\n",
              "      background-color: #3B4455;\n",
              "      fill: #D2E3FC;\n",
              "    }\n",
              "\n",
              "    [theme=dark] .colab-df-convert:hover {\n",
              "      background-color: #434B5C;\n",
              "      box-shadow: 0px 1px 3px 1px rgba(0, 0, 0, 0.15);\n",
              "      filter: drop-shadow(0px 1px 2px rgba(0, 0, 0, 0.3));\n",
              "      fill: #FFFFFF;\n",
              "    }\n",
              "  </style>\n",
              "\n",
              "      <script>\n",
              "        const buttonEl =\n",
              "          document.querySelector('#df-9acf9f2b-2d04-415d-aef1-67a285baff6c button.colab-df-convert');\n",
              "        buttonEl.style.display =\n",
              "          google.colab.kernel.accessAllowed ? 'block' : 'none';\n",
              "\n",
              "        async function convertToInteractive(key) {\n",
              "          const element = document.querySelector('#df-9acf9f2b-2d04-415d-aef1-67a285baff6c');\n",
              "          const dataTable =\n",
              "            await google.colab.kernel.invokeFunction('convertToInteractive',\n",
              "                                                     [key], {});\n",
              "          if (!dataTable) return;\n",
              "\n",
              "          const docLinkHtml = 'Like what you see? Visit the ' +\n",
              "            '<a target=\"_blank\" href=https://colab.research.google.com/notebooks/data_table.ipynb>data table notebook</a>'\n",
              "            + ' to learn more about interactive tables.';\n",
              "          element.innerHTML = '';\n",
              "          dataTable['output_type'] = 'display_data';\n",
              "          await google.colab.output.renderOutput(dataTable, element);\n",
              "          const docLink = document.createElement('div');\n",
              "          docLink.innerHTML = docLinkHtml;\n",
              "          element.appendChild(docLink);\n",
              "        }\n",
              "      </script>\n",
              "    </div>\n",
              "  </div>\n",
              "  "
            ]
          },
          "metadata": {},
          "execution_count": 202
        }
      ]
    },
    {
      "cell_type": "code",
      "source": [
        "ds.info()"
      ],
      "metadata": {
        "colab": {
          "base_uri": "https://localhost:8080/"
        },
        "id": "jpUMXxlxPVQw",
        "outputId": "1639e3c7-84fc-4f77-f5e9-8dd640cc629e"
      },
      "execution_count": 203,
      "outputs": [
        {
          "output_type": "stream",
          "name": "stdout",
          "text": [
            "<class 'pandas.core.frame.DataFrame'>\n",
            "RangeIndex: 1636 entries, 0 to 1635\n",
            "Data columns (total 40 columns):\n",
            " #   Column                Non-Null Count  Dtype  \n",
            "---  ------                --------------  -----  \n",
            " 0   AcresBurned           1633 non-null   float64\n",
            " 1   Active                1636 non-null   bool   \n",
            " 2   AdminUnit             1636 non-null   object \n",
            " 3   AirTankers            28 non-null     float64\n",
            " 4   ArchiveYear           1636 non-null   int64  \n",
            " 5   CalFireIncident       1636 non-null   bool   \n",
            " 6   CanonicalUrl          1636 non-null   object \n",
            " 7   ConditionStatement    284 non-null    object \n",
            " 8   ControlStatement      111 non-null    object \n",
            " 9   Counties              1636 non-null   object \n",
            " 10  CountyIds             1636 non-null   object \n",
            " 11  CrewsInvolved         171 non-null    float64\n",
            " 12  Dozers                123 non-null    float64\n",
            " 13  Engines               191 non-null    float64\n",
            " 14  Extinguished          1577 non-null   object \n",
            " 15  Fatalities            21 non-null     float64\n",
            " 16  Featured              1636 non-null   bool   \n",
            " 17  Final                 1636 non-null   bool   \n",
            " 18  FuelType              12 non-null     object \n",
            " 19  Helicopters           84 non-null     float64\n",
            " 20  Injuries              120 non-null    float64\n",
            " 21  Latitude              1636 non-null   object \n",
            " 22  Location              1636 non-null   object \n",
            " 23  Longitude             1636 non-null   object \n",
            " 24  MajorIncident         1636 non-null   bool   \n",
            " 25  Name                  1636 non-null   object \n",
            " 26  PercentContained      1633 non-null   float64\n",
            " 27  PersonnelInvolved     204 non-null    float64\n",
            " 28  Public                1636 non-null   bool   \n",
            " 29  SearchDescription     1619 non-null   object \n",
            " 30  SearchKeywords        1433 non-null   object \n",
            " 31  Started               1636 non-null   object \n",
            " 32  Status                1636 non-null   object \n",
            " 33  StructuresDamaged     67 non-null     float64\n",
            " 34  StructuresDestroyed   175 non-null    float64\n",
            " 35  StructuresEvacuated   0 non-null      float64\n",
            " 36  StructuresThreatened  30 non-null     float64\n",
            " 37  UniqueId              1636 non-null   object \n",
            " 38  Updated               1636 non-null   object \n",
            " 39  WaterTenders          146 non-null    float64\n",
            "dtypes: bool(6), float64(15), int64(1), object(18)\n",
            "memory usage: 444.3+ KB\n"
          ]
        }
      ]
    },
    {
      "cell_type": "markdown",
      "source": [
        "data cleaning"
      ],
      "metadata": {
        "id": "05YL7d_NGTnM"
      }
    },
    {
      "cell_type": "code",
      "source": [
        "ds.drop(['ConditionStatement'], axis =1, inplace = True)\n",
        "ds.drop(['ControlStatement'], axis =1, inplace = True)\n",
        "ds.drop(['StructuresEvacuated'], axis =1, inplace = True)\n",
        "ds.drop(['StructuresThreatened'], axis =1, inplace = True)\n",
        "ds.drop(['UniqueId'], axis =1, inplace = True)\n",
        "ds.drop(['Updated'], axis =1, inplace = True)\n",
        "ds.drop(['Active'], axis =1, inplace = True)\n",
        "ds.drop(['AirTankers'], axis =1, inplace = True)\n",
        "ds.drop(['CanonicalUrl'], axis =1, inplace = True)\n",
        "ds.drop(['SearchDescription'], axis =1, inplace = True)\n",
        "ds.drop(['SearchKeywords'], axis =1, inplace = True)\n",
        "ds.drop(['Name'], axis =1, inplace = True)\n",
        "ds.drop(['CountyIds'], axis =1, inplace = True)\n",
        "ds.drop(['Status'], axis =1, inplace = True)\n",
        "ds.drop(['Location'], axis =1, inplace = True)\n",
        "ds.drop(['Latitude'], axis =1, inplace = True)\n",
        "ds.drop(['Engines'], axis =1, inplace = True)\n",
        "ds.drop(['Dozers'], axis =1, inplace = True)\n",
        "ds.drop(['CrewsInvolved'], axis =1, inplace = True)\n",
        "ds.drop(['Longitude'], axis =1, inplace = True)\n",
        "ds.drop(['Helicopters'], axis =1, inplace = True)\n",
        "ds.drop(['Public'], axis =1, inplace = True)\n",
        "\n",
        "\n",
        "ds.head (1635)"
      ],
      "metadata": {
        "id": "ckqzPOC1GXY7"
      },
      "execution_count": null,
      "outputs": []
    },
    {
      "cell_type": "markdown",
      "source": [
        ""
      ],
      "metadata": {
        "id": "Ih6lU9a1bgeb"
      }
    },
    {
      "cell_type": "code",
      "source": [
        "ds.info()\n",
        "ds.head()"
      ],
      "metadata": {
        "id": "nr5B8oE4YZOH",
        "outputId": "1701376b-125f-4f8d-ea8e-b965009d7262",
        "colab": {
          "base_uri": "https://localhost:8080/",
          "height": 912
        }
      },
      "execution_count": 235,
      "outputs": [
        {
          "output_type": "stream",
          "name": "stdout",
          "text": [
            "<class 'pandas.core.frame.DataFrame'>\n",
            "RangeIndex: 1636 entries, 0 to 1635\n",
            "Data columns (total 18 columns):\n",
            " #   Column               Non-Null Count  Dtype         \n",
            "---  ------               --------------  -----         \n",
            " 0   AcresBurned          1633 non-null   float64       \n",
            " 1   AdminUnit            1636 non-null   object        \n",
            " 2   ArchiveYear          1636 non-null   int64         \n",
            " 3   CalFireIncident      1636 non-null   bool          \n",
            " 4   Counties             1636 non-null   object        \n",
            " 5   Extinguished         1577 non-null   datetime64[ns]\n",
            " 6   Fatalities           21 non-null     float64       \n",
            " 7   Featured             1636 non-null   bool          \n",
            " 8   Final                1636 non-null   bool          \n",
            " 9   FuelType             12 non-null     object        \n",
            " 10  Injuries             120 non-null    float64       \n",
            " 11  MajorIncident        1636 non-null   bool          \n",
            " 12  PercentContained     1633 non-null   float64       \n",
            " 13  PersonnelInvolved    204 non-null    float64       \n",
            " 14  Started              1636 non-null   datetime64[ns]\n",
            " 15  StructuresDamaged    67 non-null     float64       \n",
            " 16  StructuresDestroyed  175 non-null    float64       \n",
            " 17  WaterTenders         146 non-null    float64       \n",
            "dtypes: bool(4), datetime64[ns](2), float64(8), int64(1), object(3)\n",
            "memory usage: 185.5+ KB\n"
          ]
        },
        {
          "output_type": "execute_result",
          "data": {
            "text/plain": [
              "   AcresBurned                                          AdminUnit  \\\n",
              "0     257314.0  Stanislaus National Forest/Yosemite National Park   \n",
              "1      30274.0  USFS Angeles National Forest/Los Angeles Count...   \n",
              "2      27531.0  CAL FIRE Riverside Unit / San Bernardino Natio...   \n",
              "3      27440.0                              Tahoe National Forest   \n",
              "4      24251.0                       Ventura County Fire/CAL FIRE   \n",
              "\n",
              "   ArchiveYear  CalFireIncident     Counties Extinguished  Fatalities  \\\n",
              "0         2013             True     Tuolumne   2013-06-09         NaN   \n",
              "1         2013             True  Los Angeles   2013-08-06         NaN   \n",
              "2         2013             True    Riverside   2013-07-30         NaN   \n",
              "3         2013            False       Placer   2013-08-30         NaN   \n",
              "4         2013             True      Ventura   2013-11-05         NaN   \n",
              "\n",
              "   Featured  Final FuelType  Injuries  MajorIncident  PercentContained  \\\n",
              "0     False   True      NaN       NaN          False             100.0   \n",
              "1     False   True      NaN       NaN          False             100.0   \n",
              "2     False   True      NaN       NaN          False             100.0   \n",
              "3     False   True      NaN       NaN          False             100.0   \n",
              "4     False   True      NaN      10.0           True             100.0   \n",
              "\n",
              "   PersonnelInvolved    Started  StructuresDamaged  StructuresDestroyed  \\\n",
              "0                NaN 2013-08-17                NaN                  NaN   \n",
              "1                NaN 2013-05-30                NaN                  NaN   \n",
              "2                NaN 2013-07-15                NaN                  NaN   \n",
              "3                NaN 2013-10-08                NaN                  NaN   \n",
              "4             2167.0 2013-02-05                6.0                 10.0   \n",
              "\n",
              "   WaterTenders  \n",
              "0           NaN  \n",
              "1           NaN  \n",
              "2           NaN  \n",
              "3           NaN  \n",
              "4          11.0  "
            ],
            "text/html": [
              "\n",
              "  <div id=\"df-27cfec4e-d1f3-4b52-a933-a574969b76fe\">\n",
              "    <div class=\"colab-df-container\">\n",
              "      <div>\n",
              "<style scoped>\n",
              "    .dataframe tbody tr th:only-of-type {\n",
              "        vertical-align: middle;\n",
              "    }\n",
              "\n",
              "    .dataframe tbody tr th {\n",
              "        vertical-align: top;\n",
              "    }\n",
              "\n",
              "    .dataframe thead th {\n",
              "        text-align: right;\n",
              "    }\n",
              "</style>\n",
              "<table border=\"1\" class=\"dataframe\">\n",
              "  <thead>\n",
              "    <tr style=\"text-align: right;\">\n",
              "      <th></th>\n",
              "      <th>AcresBurned</th>\n",
              "      <th>AdminUnit</th>\n",
              "      <th>ArchiveYear</th>\n",
              "      <th>CalFireIncident</th>\n",
              "      <th>Counties</th>\n",
              "      <th>Extinguished</th>\n",
              "      <th>Fatalities</th>\n",
              "      <th>Featured</th>\n",
              "      <th>Final</th>\n",
              "      <th>FuelType</th>\n",
              "      <th>Injuries</th>\n",
              "      <th>MajorIncident</th>\n",
              "      <th>PercentContained</th>\n",
              "      <th>PersonnelInvolved</th>\n",
              "      <th>Started</th>\n",
              "      <th>StructuresDamaged</th>\n",
              "      <th>StructuresDestroyed</th>\n",
              "      <th>WaterTenders</th>\n",
              "    </tr>\n",
              "  </thead>\n",
              "  <tbody>\n",
              "    <tr>\n",
              "      <th>0</th>\n",
              "      <td>257314.0</td>\n",
              "      <td>Stanislaus National Forest/Yosemite National Park</td>\n",
              "      <td>2013</td>\n",
              "      <td>True</td>\n",
              "      <td>Tuolumne</td>\n",
              "      <td>2013-06-09</td>\n",
              "      <td>NaN</td>\n",
              "      <td>False</td>\n",
              "      <td>True</td>\n",
              "      <td>NaN</td>\n",
              "      <td>NaN</td>\n",
              "      <td>False</td>\n",
              "      <td>100.0</td>\n",
              "      <td>NaN</td>\n",
              "      <td>2013-08-17</td>\n",
              "      <td>NaN</td>\n",
              "      <td>NaN</td>\n",
              "      <td>NaN</td>\n",
              "    </tr>\n",
              "    <tr>\n",
              "      <th>1</th>\n",
              "      <td>30274.0</td>\n",
              "      <td>USFS Angeles National Forest/Los Angeles Count...</td>\n",
              "      <td>2013</td>\n",
              "      <td>True</td>\n",
              "      <td>Los Angeles</td>\n",
              "      <td>2013-08-06</td>\n",
              "      <td>NaN</td>\n",
              "      <td>False</td>\n",
              "      <td>True</td>\n",
              "      <td>NaN</td>\n",
              "      <td>NaN</td>\n",
              "      <td>False</td>\n",
              "      <td>100.0</td>\n",
              "      <td>NaN</td>\n",
              "      <td>2013-05-30</td>\n",
              "      <td>NaN</td>\n",
              "      <td>NaN</td>\n",
              "      <td>NaN</td>\n",
              "    </tr>\n",
              "    <tr>\n",
              "      <th>2</th>\n",
              "      <td>27531.0</td>\n",
              "      <td>CAL FIRE Riverside Unit / San Bernardino Natio...</td>\n",
              "      <td>2013</td>\n",
              "      <td>True</td>\n",
              "      <td>Riverside</td>\n",
              "      <td>2013-07-30</td>\n",
              "      <td>NaN</td>\n",
              "      <td>False</td>\n",
              "      <td>True</td>\n",
              "      <td>NaN</td>\n",
              "      <td>NaN</td>\n",
              "      <td>False</td>\n",
              "      <td>100.0</td>\n",
              "      <td>NaN</td>\n",
              "      <td>2013-07-15</td>\n",
              "      <td>NaN</td>\n",
              "      <td>NaN</td>\n",
              "      <td>NaN</td>\n",
              "    </tr>\n",
              "    <tr>\n",
              "      <th>3</th>\n",
              "      <td>27440.0</td>\n",
              "      <td>Tahoe National Forest</td>\n",
              "      <td>2013</td>\n",
              "      <td>False</td>\n",
              "      <td>Placer</td>\n",
              "      <td>2013-08-30</td>\n",
              "      <td>NaN</td>\n",
              "      <td>False</td>\n",
              "      <td>True</td>\n",
              "      <td>NaN</td>\n",
              "      <td>NaN</td>\n",
              "      <td>False</td>\n",
              "      <td>100.0</td>\n",
              "      <td>NaN</td>\n",
              "      <td>2013-10-08</td>\n",
              "      <td>NaN</td>\n",
              "      <td>NaN</td>\n",
              "      <td>NaN</td>\n",
              "    </tr>\n",
              "    <tr>\n",
              "      <th>4</th>\n",
              "      <td>24251.0</td>\n",
              "      <td>Ventura County Fire/CAL FIRE</td>\n",
              "      <td>2013</td>\n",
              "      <td>True</td>\n",
              "      <td>Ventura</td>\n",
              "      <td>2013-11-05</td>\n",
              "      <td>NaN</td>\n",
              "      <td>False</td>\n",
              "      <td>True</td>\n",
              "      <td>NaN</td>\n",
              "      <td>10.0</td>\n",
              "      <td>True</td>\n",
              "      <td>100.0</td>\n",
              "      <td>2167.0</td>\n",
              "      <td>2013-02-05</td>\n",
              "      <td>6.0</td>\n",
              "      <td>10.0</td>\n",
              "      <td>11.0</td>\n",
              "    </tr>\n",
              "  </tbody>\n",
              "</table>\n",
              "</div>\n",
              "      <button class=\"colab-df-convert\" onclick=\"convertToInteractive('df-27cfec4e-d1f3-4b52-a933-a574969b76fe')\"\n",
              "              title=\"Convert this dataframe to an interactive table.\"\n",
              "              style=\"display:none;\">\n",
              "        \n",
              "  <svg xmlns=\"http://www.w3.org/2000/svg\" height=\"24px\"viewBox=\"0 0 24 24\"\n",
              "       width=\"24px\">\n",
              "    <path d=\"M0 0h24v24H0V0z\" fill=\"none\"/>\n",
              "    <path d=\"M18.56 5.44l.94 2.06.94-2.06 2.06-.94-2.06-.94-.94-2.06-.94 2.06-2.06.94zm-11 1L8.5 8.5l.94-2.06 2.06-.94-2.06-.94L8.5 2.5l-.94 2.06-2.06.94zm10 10l.94 2.06.94-2.06 2.06-.94-2.06-.94-.94-2.06-.94 2.06-2.06.94z\"/><path d=\"M17.41 7.96l-1.37-1.37c-.4-.4-.92-.59-1.43-.59-.52 0-1.04.2-1.43.59L10.3 9.45l-7.72 7.72c-.78.78-.78 2.05 0 2.83L4 21.41c.39.39.9.59 1.41.59.51 0 1.02-.2 1.41-.59l7.78-7.78 2.81-2.81c.8-.78.8-2.07 0-2.86zM5.41 20L4 18.59l7.72-7.72 1.47 1.35L5.41 20z\"/>\n",
              "  </svg>\n",
              "      </button>\n",
              "      \n",
              "  <style>\n",
              "    .colab-df-container {\n",
              "      display:flex;\n",
              "      flex-wrap:wrap;\n",
              "      gap: 12px;\n",
              "    }\n",
              "\n",
              "    .colab-df-convert {\n",
              "      background-color: #E8F0FE;\n",
              "      border: none;\n",
              "      border-radius: 50%;\n",
              "      cursor: pointer;\n",
              "      display: none;\n",
              "      fill: #1967D2;\n",
              "      height: 32px;\n",
              "      padding: 0 0 0 0;\n",
              "      width: 32px;\n",
              "    }\n",
              "\n",
              "    .colab-df-convert:hover {\n",
              "      background-color: #E2EBFA;\n",
              "      box-shadow: 0px 1px 2px rgba(60, 64, 67, 0.3), 0px 1px 3px 1px rgba(60, 64, 67, 0.15);\n",
              "      fill: #174EA6;\n",
              "    }\n",
              "\n",
              "    [theme=dark] .colab-df-convert {\n",
              "      background-color: #3B4455;\n",
              "      fill: #D2E3FC;\n",
              "    }\n",
              "\n",
              "    [theme=dark] .colab-df-convert:hover {\n",
              "      background-color: #434B5C;\n",
              "      box-shadow: 0px 1px 3px 1px rgba(0, 0, 0, 0.15);\n",
              "      filter: drop-shadow(0px 1px 2px rgba(0, 0, 0, 0.3));\n",
              "      fill: #FFFFFF;\n",
              "    }\n",
              "  </style>\n",
              "\n",
              "      <script>\n",
              "        const buttonEl =\n",
              "          document.querySelector('#df-27cfec4e-d1f3-4b52-a933-a574969b76fe button.colab-df-convert');\n",
              "        buttonEl.style.display =\n",
              "          google.colab.kernel.accessAllowed ? 'block' : 'none';\n",
              "\n",
              "        async function convertToInteractive(key) {\n",
              "          const element = document.querySelector('#df-27cfec4e-d1f3-4b52-a933-a574969b76fe');\n",
              "          const dataTable =\n",
              "            await google.colab.kernel.invokeFunction('convertToInteractive',\n",
              "                                                     [key], {});\n",
              "          if (!dataTable) return;\n",
              "\n",
              "          const docLinkHtml = 'Like what you see? Visit the ' +\n",
              "            '<a target=\"_blank\" href=https://colab.research.google.com/notebooks/data_table.ipynb>data table notebook</a>'\n",
              "            + ' to learn more about interactive tables.';\n",
              "          element.innerHTML = '';\n",
              "          dataTable['output_type'] = 'display_data';\n",
              "          await google.colab.output.renderOutput(dataTable, element);\n",
              "          const docLink = document.createElement('div');\n",
              "          docLink.innerHTML = docLinkHtml;\n",
              "          element.appendChild(docLink);\n",
              "        }\n",
              "      </script>\n",
              "    </div>\n",
              "  </div>\n",
              "  "
            ]
          },
          "metadata": {},
          "execution_count": 235
        }
      ]
    },
    {
      "cell_type": "code",
      "source": [
        "ds.columns"
      ],
      "metadata": {
        "colab": {
          "base_uri": "https://localhost:8080/"
        },
        "id": "SbBlHshYOE6K",
        "outputId": "6d9e7b2e-0359-4202-9f5f-fae92834ad3e"
      },
      "execution_count": 206,
      "outputs": [
        {
          "output_type": "execute_result",
          "data": {
            "text/plain": [
              "Index(['AcresBurned', 'AdminUnit', 'ArchiveYear', 'CalFireIncident',\n",
              "       'Counties', 'Extinguished', 'Fatalities', 'Featured', 'Final',\n",
              "       'FuelType', 'Injuries', 'MajorIncident', 'PercentContained',\n",
              "       'PersonnelInvolved', 'Started', 'StructuresDamaged',\n",
              "       'StructuresDestroyed', 'WaterTenders'],\n",
              "      dtype='object')"
            ]
          },
          "metadata": {},
          "execution_count": 206
        }
      ]
    },
    {
      "cell_type": "code",
      "source": [
        "ds.Extinguished = pd.to_datetime (ds.Extinguished)\n",
        "ds.Started= pd.to_datetime (ds.Started)\n",
        "\n",
        "\n",
        "ds.info()"
      ],
      "metadata": {
        "id": "gK2c_rvQSnj0",
        "outputId": "b9daaa8e-6977-454d-eb2e-e35c8610239a",
        "colab": {
          "base_uri": "https://localhost:8080/"
        }
      },
      "execution_count": 207,
      "outputs": [
        {
          "output_type": "stream",
          "name": "stdout",
          "text": [
            "<class 'pandas.core.frame.DataFrame'>\n",
            "RangeIndex: 1636 entries, 0 to 1635\n",
            "Data columns (total 18 columns):\n",
            " #   Column               Non-Null Count  Dtype         \n",
            "---  ------               --------------  -----         \n",
            " 0   AcresBurned          1633 non-null   float64       \n",
            " 1   AdminUnit            1636 non-null   object        \n",
            " 2   ArchiveYear          1636 non-null   int64         \n",
            " 3   CalFireIncident      1636 non-null   bool          \n",
            " 4   Counties             1636 non-null   object        \n",
            " 5   Extinguished         1577 non-null   datetime64[ns]\n",
            " 6   Fatalities           21 non-null     float64       \n",
            " 7   Featured             1636 non-null   bool          \n",
            " 8   Final                1636 non-null   bool          \n",
            " 9   FuelType             12 non-null     object        \n",
            " 10  Injuries             120 non-null    float64       \n",
            " 11  MajorIncident        1636 non-null   bool          \n",
            " 12  PercentContained     1633 non-null   float64       \n",
            " 13  PersonnelInvolved    204 non-null    float64       \n",
            " 14  Started              1636 non-null   datetime64[ns]\n",
            " 15  StructuresDamaged    67 non-null     float64       \n",
            " 16  StructuresDestroyed  175 non-null    float64       \n",
            " 17  WaterTenders         146 non-null    float64       \n",
            "dtypes: bool(4), datetime64[ns](2), float64(8), int64(1), object(3)\n",
            "memory usage: 185.5+ KB\n"
          ]
        }
      ]
    },
    {
      "cell_type": "code",
      "source": [
        "plt.bar(ds.ArchiveYear, ds.AcresBurned)\n",
        "plt.title('Acres Burned Every Year')\n",
        "plt.xlabel('Year')\n",
        "plt.ylabel('Acres Burned')\n",
        "plt.show()"
      ],
      "metadata": {
        "id": "hdNSrEs3bg6q",
        "outputId": "7c130a58-567d-4aaa-c63c-0796df75a997",
        "colab": {
          "base_uri": "https://localhost:8080/",
          "height": 295
        }
      },
      "execution_count": 208,
      "outputs": [
        {
          "output_type": "display_data",
          "data": {
            "text/plain": [
              "<Figure size 432x288 with 1 Axes>"
            ],
            "image/png": "[encoded data removed]"
          },
          "metadata": {
            "needs_background": "light"
          }
        }
      ]
    },
    {
      "cell_type": "code",
      "source": [
        "\n",
        "plt.bar(ds.ArchiveYear,ds.Fatalities)\n",
        "\n",
        "plt.title('Acres Burned Every Year')\n",
        "plt.xlabel('Year')\n",
        "plt.ylabel('Acres Burned')\n",
        "plt.show()"
      ],
      "metadata": {
        "id": "k5809fFfpycB",
        "outputId": "a049aeea-c6fe-48c3-a5b9-b10f10a01ac7",
        "colab": {
          "base_uri": "https://localhost:8080/",
          "height": 295
        }
      },
      "execution_count": 239,
      "outputs": [
        {
          "output_type": "display_data",
          "data": {
            "text/plain": [
              "<Figure size 432x288 with 1 Axes>"
            ],
            "image/png": "[encoded data removed]"
          },
          "metadata": {
            "needs_background": "light"
          }
        }
      ]
    },
    {
      "cell_type": "code",
      "source": [
        "plt.bar(ds.ArchiveYear,ds.WaterTenders)\n",
        "\n",
        "\n",
        "plt.title('Totla Number of Water Tenders in Every Year')\n",
        "plt.xlabel('Year')\n",
        "plt.ylabel('Water Tenders')\n",
        "plt.show()"
      ],
      "metadata": {
        "id": "KTZhpTu4ubUB",
        "outputId": "2045d97d-068f-4de5-b41d-32359f5491d4",
        "colab": {
          "base_uri": "https://localhost:8080/",
          "height": 295
        }
      },
      "execution_count": 241,
      "outputs": [
        {
          "output_type": "display_data",
          "data": {
            "text/plain": [
              "<Figure size 432x288 with 1 Axes>"
            ],
            "image/png": "[encoded data removed]"
          },
          "metadata": {
            "needs_background": "light"
          }
        }
      ]
    },
    {
      "cell_type": "code",
      "source": [
        "\n",
        "plt.hist(ds.ArchiveYear,bins=7,linewidth=0.5)\n",
        "plt.show()"
      ],
      "metadata": {
        "colab": {
          "base_uri": "https://localhost:8080/",
          "height": 265
        },
        "id": "myyO1GdRTL4u",
        "outputId": "4137aefd-c13b-4360-d542-f512ef36fdb8"
      },
      "execution_count": 227,
      "outputs": [
        {
          "output_type": "display_data",
          "data": {
            "text/plain": [
              "<Figure size 432x288 with 1 Axes>"
            ],
            "image/png": "[encoded data removed]"
          },
          "metadata": {
            "needs_background": "light"
          }
        }
      ]
    },
    {
      "cell_type": "code",
      "source": [
        "labels = 'Tuolumne_2013', 'El Dorado_2014', 'Fresno_2015', 'Monterey_2016','Santa Barbara_','Colusa','Sonoma'\n",
        "sections = [257314, 97717, 151623,132127,281893,410203,77758]\n",
        "\n",
        "\n",
        "plt.pie(sections, labels=labels )\n",
        "\n",
        "plt.axis('equal') # Try commenting this out.\n",
        "plt.title('Pie Chart Example')\n",
        "plt.show()\n"
      ],
      "metadata": {
        "colab": {
          "base_uri": "https://localhost:8080/",
          "height": 264
        },
        "id": "GUeS_e6aRONI",
        "outputId": "04b6499e-7da4-4b7b-d94b-c70e885ec724"
      },
      "execution_count": 210,
      "outputs": [
        {
          "output_type": "display_data",
          "data": {
            "text/plain": [
              "<Figure size 432x288 with 1 Axes>"
            ],
            "image/png": "[encoded data removed]"
          },
          "metadata": {}
        }
      ]
    },
    {
      "cell_type": "code",
      "source": [
        "plt.pie(ds.CalFireIncident)\n",
        "\n",
        "plt.axis('equal') # Try commenting this out.\n",
        "plt.title('Pie Chart Example')\n",
        "plt.show()"
      ],
      "metadata": {
        "id": "DTtSjjUkZofo"
      },
      "execution_count": null,
      "outputs": []
    }
  ]
}